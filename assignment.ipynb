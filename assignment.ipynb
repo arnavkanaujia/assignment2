{
 "cells": [
  {
   "cell_type": "raw",
   "id": "6cf928ab-55f1-4544-a0c4-e40647131f60",
   "metadata": {
    "vscode": {
     "languageId": "raw"
    }
   },
   "source": [
    "---\n",
    "title: \"Assignment 2\"\n",
    "author: \"Arnav Kanaujia\"\n",
    "date: \"29 October, 2024\"\n",
    "format:\n",
    "  html:\n",
    "    code-fold: false\n",
    "---"
   ]
  },
  {
   "cell_type": "markdown",
   "id": "6adf0223-17f6-47b7-b77d-36d2aa9f90e1",
   "metadata": {},
   "source": [
    "# Problem 1: Digit Count  {.unnumbered}"
   ]
  },
  {
   "cell_type": "code",
   "execution_count": 5,
   "id": "b23ed988-dc2a-468b-bc32-93e8efc3a940",
   "metadata": {},
   "outputs": [],
   "source": [
    "def digit_count(x,y):\n",
    "                 a=str(x)\n",
    "                 b=str(y)\n",
    "                 return  a.count(b)"
   ]
  },
  {
   "cell_type": "code",
   "execution_count": 6,
   "id": "b9c3c2a4-ac2c-4c35-a1f8-63883ce0a5e7",
   "metadata": {},
   "outputs": [
    {
     "data": {
      "text/plain": [
       "2"
      ]
     },
     "execution_count": 6,
     "metadata": {},
     "output_type": "execute_result"
    }
   ],
   "source": [
    "digit_count(982332,3)"
   ]
  },
  {
   "cell_type": "markdown",
   "id": "1be122da-18a5-4d17-872c-03e466c1a08c",
   "metadata": {},
   "source": [
    "# Problem 2: Despace {.unnumbered}"
   ]
  },
  {
   "cell_type": "code",
   "execution_count": 8,
   "id": "3c632bf2-82c1-4f98-94ef-1ffe61c6760b",
   "metadata": {},
   "outputs": [],
   "source": [
    "def despace(sentence):\n",
    "       return sentence.replace(\" \",\"\")"
   ]
  },
  {
   "cell_type": "code",
   "execution_count": 9,
   "id": "9a4e41dc-35ae-4357-b384-b850d1ad5e3f",
   "metadata": {},
   "outputs": [
    {
     "data": {
      "text/plain": [
       "'iamarnavkanaujia'"
      ]
     },
     "execution_count": 9,
     "metadata": {},
     "output_type": "execute_result"
    }
   ],
   "source": [
    "despace(\"i am arnav kanaujia \")"
   ]
  },
  {
   "cell_type": "markdown",
   "id": "39e09f04-b437-4efe-93fe-7dc076616555",
   "metadata": {},
   "source": [
    "# Problem 3: Reverse Words {.unnumbered}"
   ]
  },
  {
   "cell_type": "code",
   "execution_count": 15,
   "id": "43eada39-8c41-42b3-842c-a99535b732f9",
   "metadata": {},
   "outputs": [],
   "source": [
    "def reverse_words(s):\n",
    "       a=s.split()\n",
    "       b=reversed(a)\n",
    "       n=' '.join(b)\n",
    "       return n\n",
    "    "
   ]
  },
  {
   "cell_type": "code",
   "execution_count": 16,
   "id": "90312a87-f012-4dc0-969f-34b681e34f4e",
   "metadata": {},
   "outputs": [
    {
     "data": {
      "text/plain": [
       "'arnav is name my hello'"
      ]
     },
     "execution_count": 16,
     "metadata": {},
     "output_type": "execute_result"
    }
   ],
   "source": [
    "reverse_words(\"hello my name is arnav\")"
   ]
  },
  {
   "cell_type": "markdown",
   "id": "290d2c78-4f6c-4b98-aedc-d2630de48a04",
   "metadata": {},
   "source": [
    "# Problem 4: Multiple of 3 and 5 {.unnumbered}"
   ]
  },
  {
   "cell_type": "code",
   "execution_count": 22,
   "id": "3cd591f2-31fd-4615-b266-9ae5b183b40b",
   "metadata": {},
   "outputs": [
    {
     "data": {
      "text/plain": [
       "233168"
      ]
     },
     "execution_count": 22,
     "metadata": {},
     "output_type": "execute_result"
    }
   ],
   "source": [
    "sum([n for n in range(1000) if n%3 ==0 or n%5==0])"
   ]
  },
  {
   "cell_type": "markdown",
   "id": "41201998-7da5-42fb-a027-1c1646cdf93c",
   "metadata": {},
   "source": [
    "# Problem 5: Generate Password {.unnumbered}"
   ]
  },
  {
   "cell_type": "code",
   "execution_count": 54,
   "id": "a2e0b615-baf2-4d0f-a66b-91dd266ac91d",
   "metadata": {},
   "outputs": [],
   "source": [
    "import string\n",
    "import random\n",
    "letters=list(string.ascii_letters)\n",
    "numbers=list(string.digits)\n",
    "set_all=letters+numbers\n",
    "def generate_password(n):\n",
    "    password=[]\n",
    "    for x in range(n):\n",
    "        password.append(random.choice(set_all))\n",
    "    print(''.join(password))\n",
    " \n"
   ]
  },
  {
   "cell_type": "code",
   "execution_count": 56,
   "id": "a38b01a9-8688-42b9-959c-0d90f18d5a89",
   "metadata": {},
   "outputs": [
    {
     "name": "stdout",
     "output_type": "stream",
     "text": [
      "VQ2cnlQC8enXnXOOOR5H25sLivSxxyOW1AMe3hFdrZ6xsGsThirmWs3wA0dN5urg7ZGQbwyEXK9iPmkbPLctBZpxEFAnvrMLVxpV\n"
     ]
    }
   ],
   "source": [
    "generate_password(100)"
   ]
  },
  {
   "cell_type": "markdown",
   "id": "c5fc2260-c431-439d-8aaa-269131067dc7",
   "metadata": {},
   "source": [
    "# Problem 6: Fortune {.unnumbered}"
   ]
  },
  {
   "cell_type": "code",
   "execution_count": 75,
   "id": "6ae1a27b-f22d-4ed5-aa67-fe8bce45925e",
   "metadata": {},
   "outputs": [
    {
     "name": "stdout",
     "output_type": "stream",
     "text": [
      "\n",
      "Too much is just enough.\n",
      "                -- Mark Twain, on whiskey\n",
      "\n"
     ]
    }
   ],
   "source": [
    "import random\n",
    "f = open(\"quotes.txt\", \"r\")\n",
    "print(random.choice(f.read().split(\"%\")))\n"
   ]
  },
  {
   "cell_type": "markdown",
   "id": "bb15de67-2603-4860-b846-aaefe92a2226",
   "metadata": {},
   "source": [
    "# Problem 7 : Countdown {.unnumbered}"
   ]
  },
  {
   "cell_type": "code",
   "execution_count": 98,
   "id": "149cb597-5686-43ec-a3c8-df961142e3fd",
   "metadata": {},
   "outputs": [
    {
     "name": "stdout",
     "output_type": "stream",
     "text": [
      " 9\n"
     ]
    },
    {
     "name": "stdout",
     "output_type": "stream",
     "text": [
      "9\n",
      "8\n",
      "7\n",
      "6\n",
      "5\n",
      "4\n",
      "3\n",
      "2\n",
      "1\n",
      "0\n"
     ]
    }
   ],
   "source": [
    "countdown_number=int(input())\n",
    "timr=[]\n",
    "for k in range(countdown_number+1):\n",
    "    timr.append(str(k))\n",
    "print('\\n'.join(timr[::-1]))\n",
    "\n",
    "    "
   ]
  },
  {
   "cell_type": "markdown",
   "id": "ad850299-5846-40b3-843e-f64d39a81c1d",
   "metadata": {},
   "source": [
    "# Problem 8: Largest Number in a File {.unnumbered}"
   ]
  },
  {
   "cell_type": "code",
   "execution_count": 99,
   "id": "8c005282-4970-4102-a7f8-c162c6c16360",
   "metadata": {},
   "outputs": [
    {
     "name": "stdout",
     "output_type": "stream",
     "text": [
      "Writing numbers.txt\n"
     ]
    }
   ],
   "source": [
    "%%file numbers.txt\n",
    "1\n",
    "16\n",
    "12\n",
    "37\n",
    "42\n",
    "19\n",
    "9\n",
    "15\n",
    "18\n",
    "24\n",
    "4534843\n",
    "445435 34\n",
    "534 5 \n",
    "3454\n",
    "543\n",
    "5435345\n",
    "5665\n",
    "7567\n",
    "568\n",
    "67\n",
    "789879\n",
    "7786787686\n",
    "67876\n",
    "8768\n",
    "768\n",
    "686\n",
    "867\n",
    "876\n",
    "8\n",
    "76\n",
    "876\n",
    "8768\n",
    "678\n",
    "768\n",
    "678\n",
    "678\n",
    "67\n",
    "8768\n",
    "677867\n",
    "867\n",
    "867\n",
    "867 \n",
    "86\n",
    "867\n",
    "876\n",
    "83892498328456868464\n",
    "346483264236\n",
    "324324777288293674736787863832524678523246732\n",
    "345234676732651725237253753373388"
   ]
  },
  {
   "cell_type": "code",
   "execution_count": 101,
   "id": "72b6208e-5d1c-4ebc-b1b6-ef8a1e332179",
   "metadata": {},
   "outputs": [
    {
     "name": "stdout",
     "output_type": "stream",
     "text": [
      "Writing numbers2.txt\n"
     ]
    }
   ],
   "source": [
    "\n",
    "%%file numbers2.txt\n",
    "1\n",
    "2\n",
    "3\n",
    "4\n",
    "5\n",
    "9\n",
    "10\n",
    "11\n",
    "2343\n",
    "454355667765567675766766675756\n",
    "5654645654645\n",
    "546\n",
    "45\n",
    "2\n",
    "534354\n",
    "543\n",
    "654\n",
    "67\n",
    "657\n",
    "567\n",
    "56\n",
    "765\n",
    "756\n",
    "756\n",
    "756\n",
    "765\n",
    "75888867"
   ]
  },
  {
   "cell_type": "code",
   "execution_count": 119,
   "id": "50a23b5b-d9fc-4c1d-881e-a9da4997cc5f",
   "metadata": {},
   "outputs": [
    {
     "name": "stdout",
     "output_type": "stream",
     "text": [
      "324324777288293674736787863832524678523246732\n",
      "454355667765567675766766675756\n"
     ]
    }
   ],
   "source": [
    "file1=open(\"numbers.txt\",\"r\")\n",
    "file2=open(\"numbers2.txt\",\"r\")\n",
    "data1=file1.read().split('\\n')\n",
    "data2=file2.read().split('\\n')\n",
    "\n",
    "print(max(list(map(int, data1))))\n",
    "print(max(list(map(int, data2))))\n",
    "\n"
   ]
  },
  {
   "cell_type": "markdown",
   "id": "5070a256-efc5-4c88-a0db-14fe22a09993",
   "metadata": {},
   "source": [
    "# Problem 9: Plot : $ x^2 $ and $ 2^x $ {.unnumbered}\n",
    " "
   ]
  },
  {
   "cell_type": "code",
   "execution_count": 137,
   "id": "3e24355f-dcea-4d20-9311-0268f8c2d5ae",
   "metadata": {},
   "outputs": [
    {
     "data": {
      "text/plain": [
       "<matplotlib.legend.Legend at 0x7fa308eb5090>"
      ]
     },
     "execution_count": 137,
     "metadata": {},
     "output_type": "execute_result"
    },
    {
     "data": {
      "image/png": "[encoded data removed]",
      "text/plain": [
       "<Figure size 640x480 with 1 Axes>"
      ]
     },
     "metadata": {},
     "output_type": "display_data"
    }
   ],
   "source": [
    "import numpy as np\n",
    "import matplotlib.pyplot as plt\n",
    "import math\n",
    "x=np.linspace(-2,2,1000)\n",
    "plt.plot(x,x*x,label=\"$x^2$\")\n",
    "plt.plot(x,pow(2,x),label=\"$2^x$\")\n",
    "plt.grid()\n",
    "plt.legend()"
   ]
  },
  {
   "cell_type": "markdown",
   "id": "907461a2-f50c-49f6-9550-6b8e1ef816af",
   "metadata": {},
   "source": [
    "# Problem 10: Manhattan Distance {.unnumbered}"
   ]
  },
  {
   "cell_type": "code",
   "execution_count": 164,
   "id": "2c7e043b-b350-496d-a90d-f8b5735a36c3",
   "metadata": {},
   "outputs": [],
   "source": [
    "import numpy as np\n",
    "import matplotlib.pyplot as plt\n",
    "import math\n",
    "\n",
    "def manhattan_distance(v1,v2):\n",
    "    diff=np.subtract(v1,v2)\n",
    "    print(diff)\n",
    "    for n in range(len(diff)):\n",
    "        diff[n]=abs(diff[n])\n",
    "    print(diff)\n",
    "    m=0\n",
    "    for n in diff:\n",
    "      m+=n\n",
    "    print(m)\n",
    "        \n",
    "    "
   ]
  },
  {
   "cell_type": "code",
   "execution_count": 167,
   "id": "8a6618e8-8a4e-419b-9fdb-756d5b0d8d1f",
   "metadata": {},
   "outputs": [
    {
     "name": "stdout",
     "output_type": "stream",
     "text": [
      "[     2    -28   1353    756     67    657    558 657648      0    -38]\n",
      "[     2     28   1353    756     67    657    558 657648      0     38]\n",
      "661107\n"
     ]
    }
   ],
   "source": [
    "manhattan_distance(np.array([5,4,676,765,67,657,567,657657,65,7]), np.array([3,32,-677, 9,0,0,9,9,65,45]))\n"
   ]
  },
  {
   "cell_type": "code",
   "execution_count": null,
   "id": "ef813e2e-4d6b-4e82-b713-b8560849d998",
   "metadata": {},
   "outputs": [],
   "source": []
  }
 ],
 "metadata": {
  "kernelspec": {
   "display_name": "Python 3 (ipykernel)",
   "language": "python",
   "name": "python3"
  },
  "language_info": {
   "codemirror_mode": {
    "name": "ipython",
    "version": 3
   },
   "file_extension": ".py",
   "mimetype": "text/x-python",
   "name": "python",
   "nbconvert_exporter": "python",
   "pygments_lexer": "ipython3",
   "version": "3.10.12"
  }
 },
 "nbformat": 4,
 "nbformat_minor": 5
}
